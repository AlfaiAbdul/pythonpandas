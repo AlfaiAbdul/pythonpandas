{
 "cells": [
  {
   "cell_type": "code",
   "execution_count": 2,
   "metadata": {
    "collapsed": true
   },
   "outputs": [],
   "source": [
    "#Dependencies                          \n",
    "import pandas as pd\n",
    "import json\n",
    "\n"
   ]
  },
  {
   "cell_type": "code",
   "execution_count": 3,
   "metadata": {
    "collapsed": true
   },
   "outputs": [],
   "source": [
    "#Create DataFrames for each set of data\n",
    "heros1_df = pd.read_json('purchase_data.json')\n",
    "heros2_df = pd.read_json('purchase_data2.json')"
   ]
  },
  {
   "cell_type": "code",
   "execution_count": 4,
   "metadata": {},
   "outputs": [
    {
     "data": {
      "text/plain": [
       "Index(['Age', 'Gender', 'Item ID', 'Item Name', 'Price', 'SN'], dtype='object')"
      ]
     },
     "execution_count": 4,
     "metadata": {},
     "output_type": "execute_result"
    }
   ],
   "source": [
    "heros1_df.columns"
   ]
  },
  {
   "cell_type": "code",
   "execution_count": 5,
   "metadata": {},
   "outputs": [
    {
     "data": {
      "text/html": [
       "<div>\n",
       "<style>\n",
       "    .dataframe thead tr:only-child th {\n",
       "        text-align: right;\n",
       "    }\n",
       "\n",
       "    .dataframe thead th {\n",
       "        text-align: left;\n",
       "    }\n",
       "\n",
       "    .dataframe tbody tr th {\n",
       "        vertical-align: top;\n",
       "    }\n",
       "</style>\n",
       "<table border=\"1\" class=\"dataframe\">\n",
       "  <thead>\n",
       "    <tr style=\"text-align: right;\">\n",
       "      <th></th>\n",
       "      <th>Age</th>\n",
       "      <th>Gender</th>\n",
       "      <th>Item ID</th>\n",
       "      <th>Item Name</th>\n",
       "      <th>Price</th>\n",
       "      <th>SN</th>\n",
       "    </tr>\n",
       "  </thead>\n",
       "  <tbody>\n",
       "    <tr>\n",
       "      <th>0</th>\n",
       "      <td>38</td>\n",
       "      <td>Male</td>\n",
       "      <td>165</td>\n",
       "      <td>Bone Crushing Silver Skewer</td>\n",
       "      <td>3.37</td>\n",
       "      <td>Aelalis34</td>\n",
       "    </tr>\n",
       "    <tr>\n",
       "      <th>1</th>\n",
       "      <td>21</td>\n",
       "      <td>Male</td>\n",
       "      <td>119</td>\n",
       "      <td>Stormbringer, Dark Blade of Ending Misery</td>\n",
       "      <td>2.32</td>\n",
       "      <td>Eolo46</td>\n",
       "    </tr>\n",
       "    <tr>\n",
       "      <th>2</th>\n",
       "      <td>34</td>\n",
       "      <td>Male</td>\n",
       "      <td>174</td>\n",
       "      <td>Primitive Blade</td>\n",
       "      <td>2.46</td>\n",
       "      <td>Assastnya25</td>\n",
       "    </tr>\n",
       "    <tr>\n",
       "      <th>3</th>\n",
       "      <td>21</td>\n",
       "      <td>Male</td>\n",
       "      <td>92</td>\n",
       "      <td>Final Critic</td>\n",
       "      <td>1.36</td>\n",
       "      <td>Pheusrical25</td>\n",
       "    </tr>\n",
       "    <tr>\n",
       "      <th>4</th>\n",
       "      <td>23</td>\n",
       "      <td>Male</td>\n",
       "      <td>63</td>\n",
       "      <td>Stormfury Mace</td>\n",
       "      <td>1.27</td>\n",
       "      <td>Aela59</td>\n",
       "    </tr>\n",
       "  </tbody>\n",
       "</table>\n",
       "</div>"
      ],
      "text/plain": [
       "   Age Gender  Item ID                                  Item Name  Price  \\\n",
       "0   38   Male      165                Bone Crushing Silver Skewer   3.37   \n",
       "1   21   Male      119  Stormbringer, Dark Blade of Ending Misery   2.32   \n",
       "2   34   Male      174                            Primitive Blade   2.46   \n",
       "3   21   Male       92                               Final Critic   1.36   \n",
       "4   23   Male       63                             Stormfury Mace   1.27   \n",
       "\n",
       "             SN  \n",
       "0     Aelalis34  \n",
       "1        Eolo46  \n",
       "2   Assastnya25  \n",
       "3  Pheusrical25  \n",
       "4        Aela59  "
      ]
     },
     "execution_count": 5,
     "metadata": {},
     "output_type": "execute_result"
    }
   ],
   "source": [
    "heros1_df.head()"
   ]
  },
  {
   "cell_type": "markdown",
   "metadata": {},
   "source": [
    "# Player Count#######\n",
    "* Total Number of Players"
   ]
  },
  {
   "cell_type": "code",
   "execution_count": 6,
   "metadata": {},
   "outputs": [
    {
     "data": {
      "text/html": [
       "<div>\n",
       "<style>\n",
       "    .dataframe thead tr:only-child th {\n",
       "        text-align: right;\n",
       "    }\n",
       "\n",
       "    .dataframe thead th {\n",
       "        text-align: left;\n",
       "    }\n",
       "\n",
       "    .dataframe tbody tr th {\n",
       "        vertical-align: top;\n",
       "    }\n",
       "</style>\n",
       "<table border=\"1\" class=\"dataframe\">\n",
       "  <thead>\n",
       "    <tr style=\"text-align: right;\">\n",
       "      <th></th>\n",
       "      <th>Player Count</th>\n",
       "    </tr>\n",
       "  </thead>\n",
       "  <tbody>\n",
       "    <tr>\n",
       "      <th>0</th>\n",
       "      <td>780</td>\n",
       "    </tr>\n",
       "  </tbody>\n",
       "</table>\n",
       "</div>"
      ],
      "text/plain": [
       "   Player Count\n",
       "0           780"
      ]
     },
     "execution_count": 6,
     "metadata": {},
     "output_type": "execute_result"
    }
   ],
   "source": [
    "# Count how many Players \"SN\" within the dataframe\n",
    "count_players = heros1_df['SN'].value_counts()\n",
    "#putting count_players in a dataframe\n",
    "total_players = pd.DataFrame(count_players)\n",
    "counter = count_players.sum()\n",
    "#Create a new dataframe with a title \"Player Count\"\n",
    "p_count = pd.DataFrame({\"Player Count\":[counter]})\n",
    "p_count"
   ]
  },
  {
   "cell_type": "markdown",
   "metadata": {
    "collapsed": true
   },
   "source": [
    "# Purchasing Analysis (Total)#######\n",
    "* Number of Unique Items\n",
    "* Average Purchase Price\n",
    "* Total Number of Purchases\n",
    "* Total Revenue"
   ]
  },
  {
   "cell_type": "code",
   "execution_count": 8,
   "metadata": {},
   "outputs": [
    {
     "data": {
      "text/html": [
       "<div>\n",
       "<style>\n",
       "    .dataframe thead tr:only-child th {\n",
       "        text-align: right;\n",
       "    }\n",
       "\n",
       "    .dataframe thead th {\n",
       "        text-align: left;\n",
       "    }\n",
       "\n",
       "    .dataframe tbody tr th {\n",
       "        vertical-align: top;\n",
       "    }\n",
       "</style>\n",
       "<table border=\"1\" class=\"dataframe\">\n",
       "  <thead>\n",
       "    <tr style=\"text-align: right;\">\n",
       "      <th></th>\n",
       "      <th>Average Purchase</th>\n",
       "      <th>Tota Revenue</th>\n",
       "      <th>Total Purchases</th>\n",
       "      <th>Unique Items</th>\n",
       "    </tr>\n",
       "  </thead>\n",
       "  <tbody>\n",
       "    <tr>\n",
       "      <th>0</th>\n",
       "      <td>2.931192</td>\n",
       "      <td>2286.33</td>\n",
       "      <td>780</td>\n",
       "      <td>183</td>\n",
       "    </tr>\n",
       "  </tbody>\n",
       "</table>\n",
       "</div>"
      ],
      "text/plain": [
       "   Average Purchase  Tota Revenue  Total Purchases  Unique Items\n",
       "0          2.931192       2286.33              780           183"
      ]
     },
     "execution_count": 8,
     "metadata": {},
     "output_type": "execute_result"
    }
   ],
   "source": [
    "#Number of Unique Items:\n",
    "unique_items = heros1_df['Item ID'].nunique()\n",
    "#Average Purchase Price for unique Items:\n",
    "avrg_purchase = heros1_df['Price'].mean()\n",
    "#Total Number of Purchases:\n",
    "total_purchases = len(heros1_df['Price'])\n",
    "#Total Revenue:\n",
    "total_revenue = sum(heros1_df['Price'])\n",
    "#Create DataFrame for Purchasing Analysis\n",
    "p_analysis_df = pd.DataFrame({\"Unique Items\":[unique_items],\n",
    "                        \"Average Purchase\":[avrg_purchase],\n",
    "                        \"Total Purchases\":[total_purchases],\n",
    "                        \"Tota Revenue\":[total_revenue]})\n",
    "p_analysis_df"
   ]
  },
  {
   "cell_type": "markdown",
   "metadata": {},
   "source": [
    "# Gender Demographics\n",
    "* Percentage and Count of Male Players\n",
    "* Percentage and Count of Female Players\n",
    "* Percentage and Count of Other / Non-Disclosed"
   ]
  },
  {
   "cell_type": "code",
   "execution_count": 68,
   "metadata": {},
   "outputs": [
    {
     "data": {
      "text/html": [
       "<div>\n",
       "<style>\n",
       "    .dataframe thead tr:only-child th {\n",
       "        text-align: right;\n",
       "    }\n",
       "\n",
       "    .dataframe thead th {\n",
       "        text-align: left;\n",
       "    }\n",
       "\n",
       "    .dataframe tbody tr th {\n",
       "        vertical-align: top;\n",
       "    }\n",
       "</style>\n",
       "<table border=\"1\" class=\"dataframe\">\n",
       "  <thead>\n",
       "    <tr style=\"text-align: right;\">\n",
       "      <th></th>\n",
       "      <th>Cout</th>\n",
       "      <th>Percentage of Total players</th>\n",
       "    </tr>\n",
       "  </thead>\n",
       "  <tbody>\n",
       "    <tr>\n",
       "      <th>Male</th>\n",
       "      <td>465</td>\n",
       "      <td>59.615385</td>\n",
       "    </tr>\n",
       "    <tr>\n",
       "      <th>Female</th>\n",
       "      <td>100</td>\n",
       "      <td>12.820513</td>\n",
       "    </tr>\n",
       "    <tr>\n",
       "      <th>Other / Non-Disclosed</th>\n",
       "      <td>8</td>\n",
       "      <td>1.025641</td>\n",
       "    </tr>\n",
       "  </tbody>\n",
       "</table>\n",
       "</div>"
      ],
      "text/plain": [
       "                       Cout  Percentage of Total players\n",
       "Male                    465                    59.615385\n",
       "Female                  100                    12.820513\n",
       "Other / Non-Disclosed     8                     1.025641"
      ]
     },
     "execution_count": 68,
     "metadata": {},
     "output_type": "execute_result"
    }
   ],
   "source": [
    "#to get rid of duplicate players\n",
    "drop_duplicate_plyers = heros1_df.drop_duplicates(['SN'], keep ='last')\n",
    "#using .value_caounts to extract male, female, and other counts\n",
    "gender_count = drop_duplicate_plyers[\"Gender\"].value_counts()\n",
    "#dividing each gender count by to total # and * by 100 to get the percentage of each segmant\n",
    "gender_percentage = gender_count / counter * 100\n",
    "#creating a DataFrame to show total number and percentages \n",
    "gender_percentage_df = pd.DataFrame({\"Percentage of Total players\":gender_percentage, \n",
    "                                    \"Cout\":gender_count})\n",
    "gender_percentage_df"
   ]
  },
  {
   "cell_type": "markdown",
   "metadata": {
    "collapsed": true
   },
   "source": [
    "# Purchasing Analysis (Gender)\n",
    "#Purchase Count\n",
    "#Average Purchase Price\n",
    "#Total Purchase Value\n",
    "#Normalized Totals (normalizing for the # of people in each gender group)\n"
   ]
  },
  {
   "cell_type": "code",
   "execution_count": 106,
   "metadata": {},
   "outputs": [
    {
     "data": {
      "text/html": [
       "<div>\n",
       "<style>\n",
       "    .dataframe thead tr:only-child th {\n",
       "        text-align: right;\n",
       "    }\n",
       "\n",
       "    .dataframe thead th {\n",
       "        text-align: left;\n",
       "    }\n",
       "\n",
       "    .dataframe tbody tr th {\n",
       "        vertical-align: top;\n",
       "    }\n",
       "</style>\n",
       "<table border=\"1\" class=\"dataframe\">\n",
       "  <thead>\n",
       "    <tr style=\"text-align: right;\">\n",
       "      <th></th>\n",
       "      <th>Gender</th>\n",
       "      <th>Price</th>\n",
       "      <th>Avrg Purchase Price</th>\n",
       "      <th>Normalized Totals</th>\n",
       "    </tr>\n",
       "    <tr>\n",
       "      <th>Gender</th>\n",
       "      <th></th>\n",
       "      <th></th>\n",
       "      <th></th>\n",
       "      <th></th>\n",
       "    </tr>\n",
       "  </thead>\n",
       "  <tbody>\n",
       "    <tr>\n",
       "      <th>Female</th>\n",
       "      <td>136</td>\n",
       "      <td>382.91</td>\n",
       "      <td>2.815515</td>\n",
       "      <td>2.815515</td>\n",
       "    </tr>\n",
       "    <tr>\n",
       "      <th>Male</th>\n",
       "      <td>633</td>\n",
       "      <td>1867.68</td>\n",
       "      <td>2.950521</td>\n",
       "      <td>2.950521</td>\n",
       "    </tr>\n",
       "    <tr>\n",
       "      <th>Other / Non-Disclosed</th>\n",
       "      <td>11</td>\n",
       "      <td>35.74</td>\n",
       "      <td>3.249091</td>\n",
       "      <td>3.249091</td>\n",
       "    </tr>\n",
       "  </tbody>\n",
       "</table>\n",
       "</div>"
      ],
      "text/plain": [
       "                       Gender    Price  Avrg Purchase Price  Normalized Totals\n",
       "Gender                                                                        \n",
       "Female                    136   382.91             2.815515           2.815515\n",
       "Male                      633  1867.68             2.950521           2.950521\n",
       "Other / Non-Disclosed      11    35.74             3.249091           3.249091"
      ]
     },
     "execution_count": 106,
     "metadata": {},
     "output_type": "execute_result"
    }
   ],
   "source": [
    "#counts of purchases by the gender\n",
    "count_purchases_gender = pd.DataFrame(heros1_df.groupby('Gender')['Gender'].count())\n",
    "#total purchases value by gender\n",
    "total_purchases_gender = pd.DataFrame(heros1_df.groupby('Gender')['Price'].sum())\n",
    "#renaming the columns we want to work with\n",
    "#####merged_gender.rename(columns = {'Gender': 'Count of Purchases', 'Price':'Sum of Purchases'}, inplace=True)\n",
    "#putting the previous data together\n",
    "merged_gender = pd.merge(count_purchases_gender, total_purchases_gender, left_index = True, right_index = True)\n",
    "#adding a column for avgr purchase\n",
    "merged_gender['Avrg Purchase Price'] = merged_gender['Price'] / merged_gender['Gender']\n",
    "#Normalized total\n",
    "merged_gender['Normalized Totals'] = merged_gender['Price'] / merged_gender['Gender']\n",
    "merged_gender\n",
    "#for some reason the code above with 5 #s is not working!!\n",
    "#Price should be renamed to \"Sum of Purchases\"\n",
    "#Gender should be renamed to \"Count of Purchases\""
   ]
  },
  {
   "cell_type": "markdown",
   "metadata": {},
   "source": [
    "# Age Demographics\n",
    "#Purchase count\n",
    "#Average Purchase price\n",
    "#Total purchase value\n",
    "#Normalized total"
   ]
  },
  {
   "cell_type": "code",
   "execution_count": 15,
   "metadata": {
    "collapsed": true
   },
   "outputs": [],
   "source": [
    "#creating age bin to use it for purchase analysis by the range of ages\n",
    "heros1_df.loc[(heros1_df['Age'] < 10), 'age_bin'] = \"< 10\"\n",
    "heros1_df.loc[(heros1_df['Age'] >= 10) & (heros1_df['Age'] <= 14), 'age_bin'] = \"10 - 14\"\n",
    "heros1_df.loc[(heros1_df['Age'] >= 15) & (heros1_df['Age'] <= 19), 'age_bin'] = \"15 - 19\"\n",
    "heros1_df.loc[(heros1_df['Age'] >= 20) & (heros1_df['Age'] <= 24), 'age_bin'] = \"20 - 24\"\n",
    "heros1_df.loc[(heros1_df['Age'] >= 25) & (heros1_df['Age'] <= 29), 'age_bin'] = \"25 - 29\"\n",
    "heros1_df.loc[(heros1_df['Age'] >= 30) & (heros1_df['Age'] <= 34), 'age_bin'] = \"30 - 34\"\n",
    "heros1_df.loc[(heros1_df['Age'] >= 35) & (heros1_df['Age'] <= 39), 'age_bin'] = \"35 - 39\"\n",
    "heros1_df.loc[(heros1_df['Age'] >= 40), 'age_bin'] = \"> 40\""
   ]
  },
  {
   "cell_type": "code",
   "execution_count": 16,
   "metadata": {
    "collapsed": true
   },
   "outputs": [],
   "source": [
    "#using the age bin to count purchases\n",
    "purchase_count_age_bin = pd.DataFrame(heros1_df.groupby('age_bin')['SN'].count())"
   ]
  },
  {
   "cell_type": "code",
   "execution_count": 17,
   "metadata": {
    "collapsed": true
   },
   "outputs": [],
   "source": [
    "#avrg price using age bin\n",
    "avrg_price_age_bin = pd.DataFrame(heros1_df.groupby('age_bin')['Price'].mean())"
   ]
  },
  {
   "cell_type": "code",
   "execution_count": 19,
   "metadata": {
    "collapsed": true
   },
   "outputs": [],
   "source": [
    "#total purchase value using age bin\n",
    "total_purchase_age_bit = pd.DataFrame(heros1_df.groupby('age_bin')['Price'].sum())\n"
   ]
  },
  {
   "cell_type": "code",
   "execution_count": 20,
   "metadata": {
    "collapsed": true
   },
   "outputs": [],
   "source": [
    "#keeping last name in \"SN\" then counting players using age bin\n",
    "last_name_age_bin = pd.DataFrame(heros1_df.drop_duplicates('SN', keep = 'last').groupby('age_bin')['SN'].count())"
   ]
  },
  {
   "cell_type": "code",
   "execution_count": 23,
   "metadata": {
    "collapsed": true
   },
   "outputs": [],
   "source": [
    "#mergeing data and put it in DF\n",
    "merge_age_bin = pd.merge(purchase_count_age_bin, avrg_price_age_bin, left_index = True, right_index = True).merge(total_purchase_age_bit, left_index = True, right_index = True).merge(last_name_age_bin, left_index = True, right_index = True)\n",
    "#Normalized totals\n",
    "merge_age_bin['Normalized Totals'] = merge_age['Price_y']/merge_age['SN_x']"
   ]
  },
  {
   "cell_type": "code",
   "execution_count": 24,
   "metadata": {},
   "outputs": [
    {
     "data": {
      "text/html": [
       "<div>\n",
       "<style>\n",
       "    .dataframe thead tr:only-child th {\n",
       "        text-align: right;\n",
       "    }\n",
       "\n",
       "    .dataframe thead th {\n",
       "        text-align: left;\n",
       "    }\n",
       "\n",
       "    .dataframe tbody tr th {\n",
       "        vertical-align: top;\n",
       "    }\n",
       "</style>\n",
       "<table border=\"1\" class=\"dataframe\">\n",
       "  <thead>\n",
       "    <tr style=\"text-align: right;\">\n",
       "      <th></th>\n",
       "      <th>SN_x</th>\n",
       "      <th>Price_x</th>\n",
       "      <th>Price_y</th>\n",
       "      <th>SN_y</th>\n",
       "      <th>Normalized Totals</th>\n",
       "    </tr>\n",
       "    <tr>\n",
       "      <th>age_bin</th>\n",
       "      <th></th>\n",
       "      <th></th>\n",
       "      <th></th>\n",
       "      <th></th>\n",
       "      <th></th>\n",
       "    </tr>\n",
       "  </thead>\n",
       "  <tbody>\n",
       "    <tr>\n",
       "      <th>10 - 14</th>\n",
       "      <td>35</td>\n",
       "      <td>2.770000</td>\n",
       "      <td>96.95</td>\n",
       "      <td>23</td>\n",
       "      <td>2.770000</td>\n",
       "    </tr>\n",
       "    <tr>\n",
       "      <th>15 - 19</th>\n",
       "      <td>133</td>\n",
       "      <td>2.905414</td>\n",
       "      <td>386.42</td>\n",
       "      <td>100</td>\n",
       "      <td>2.905414</td>\n",
       "    </tr>\n",
       "    <tr>\n",
       "      <th>20 - 24</th>\n",
       "      <td>336</td>\n",
       "      <td>2.913006</td>\n",
       "      <td>978.77</td>\n",
       "      <td>259</td>\n",
       "      <td>2.913006</td>\n",
       "    </tr>\n",
       "    <tr>\n",
       "      <th>25 - 29</th>\n",
       "      <td>125</td>\n",
       "      <td>2.962640</td>\n",
       "      <td>370.33</td>\n",
       "      <td>87</td>\n",
       "      <td>2.962640</td>\n",
       "    </tr>\n",
       "    <tr>\n",
       "      <th>30 - 34</th>\n",
       "      <td>64</td>\n",
       "      <td>3.082031</td>\n",
       "      <td>197.25</td>\n",
       "      <td>47</td>\n",
       "      <td>3.082031</td>\n",
       "    </tr>\n",
       "    <tr>\n",
       "      <th>35 - 39</th>\n",
       "      <td>42</td>\n",
       "      <td>2.842857</td>\n",
       "      <td>119.40</td>\n",
       "      <td>27</td>\n",
       "      <td>2.842857</td>\n",
       "    </tr>\n",
       "    <tr>\n",
       "      <th>&lt; 10</th>\n",
       "      <td>28</td>\n",
       "      <td>2.980714</td>\n",
       "      <td>83.46</td>\n",
       "      <td>19</td>\n",
       "      <td>2.980714</td>\n",
       "    </tr>\n",
       "    <tr>\n",
       "      <th>&gt; 40</th>\n",
       "      <td>17</td>\n",
       "      <td>3.161765</td>\n",
       "      <td>53.75</td>\n",
       "      <td>11</td>\n",
       "      <td>3.161765</td>\n",
       "    </tr>\n",
       "  </tbody>\n",
       "</table>\n",
       "</div>"
      ],
      "text/plain": [
       "         SN_x   Price_x  Price_y  SN_y  Normalized Totals\n",
       "age_bin                                                  \n",
       "10 - 14    35  2.770000    96.95    23           2.770000\n",
       "15 - 19   133  2.905414   386.42   100           2.905414\n",
       "20 - 24   336  2.913006   978.77   259           2.913006\n",
       "25 - 29   125  2.962640   370.33    87           2.962640\n",
       "30 - 34    64  3.082031   197.25    47           3.082031\n",
       "35 - 39    42  2.842857   119.40    27           2.842857\n",
       "< 10       28  2.980714    83.46    19           2.980714\n",
       "> 40       17  3.161765    53.75    11           3.161765"
      ]
     },
     "execution_count": 24,
     "metadata": {},
     "output_type": "execute_result"
    }
   ],
   "source": [
    "#where:\n",
    "#SN_x is number purchases, Price_x is Avrg purchase, \n",
    "#Price_y is total purchase value, SN_y is counts of purchases  \n",
    "merge_age_bin"
   ]
  },
  {
   "cell_type": "markdown",
   "metadata": {},
   "source": [
    "# Top Spender\n",
    "  * Purchase Count\n",
    "  * Average Purchase Price\n",
    "  * Total Purchase Value"
   ]
  },
  {
   "cell_type": "code",
   "execution_count": 25,
   "metadata": {
    "collapsed": true
   },
   "outputs": [],
   "source": [
    "purchase_total_name = pd.DataFrame(heros1_df.groupby('SN')['Price'].sum())\n",
    "count_purchase_name = pd.DataFrame(heros1_df.groupby('SN')['Price'].count())\n",
    "avrg_purchase_name = pd.DataFrame(heros1_df.groupby('SN')['Price'].mean())"
   ]
  },
  {
   "cell_type": "code",
   "execution_count": 27,
   "metadata": {
    "collapsed": true
   },
   "outputs": [],
   "source": [
    "#putting the previous DFs together\n",
    "top5 = pd.merge(purchase_total_name, count_purchase_name, left_index = True, right_index = True).merge(avrg_purchase_name, left_index=True, right_index=True)"
   ]
  },
  {
   "cell_type": "code",
   "execution_count": 29,
   "metadata": {},
   "outputs": [
    {
     "data": {
      "text/html": [
       "<div>\n",
       "<style>\n",
       "    .dataframe thead tr:only-child th {\n",
       "        text-align: right;\n",
       "    }\n",
       "\n",
       "    .dataframe thead th {\n",
       "        text-align: left;\n",
       "    }\n",
       "\n",
       "    .dataframe tbody tr th {\n",
       "        vertical-align: top;\n",
       "    }\n",
       "</style>\n",
       "<table border=\"1\" class=\"dataframe\">\n",
       "  <thead>\n",
       "    <tr style=\"text-align: right;\">\n",
       "      <th></th>\n",
       "      <th>Price_x</th>\n",
       "      <th>Price_y</th>\n",
       "      <th>Price</th>\n",
       "    </tr>\n",
       "    <tr>\n",
       "      <th>SN</th>\n",
       "      <th></th>\n",
       "      <th></th>\n",
       "      <th></th>\n",
       "    </tr>\n",
       "  </thead>\n",
       "  <tbody>\n",
       "    <tr>\n",
       "      <th>Undirrala66</th>\n",
       "      <td>17.06</td>\n",
       "      <td>5</td>\n",
       "      <td>3.412000</td>\n",
       "    </tr>\n",
       "    <tr>\n",
       "      <th>Saedue76</th>\n",
       "      <td>13.56</td>\n",
       "      <td>4</td>\n",
       "      <td>3.390000</td>\n",
       "    </tr>\n",
       "    <tr>\n",
       "      <th>Mindimnya67</th>\n",
       "      <td>12.74</td>\n",
       "      <td>4</td>\n",
       "      <td>3.185000</td>\n",
       "    </tr>\n",
       "    <tr>\n",
       "      <th>Haellysu29</th>\n",
       "      <td>12.73</td>\n",
       "      <td>3</td>\n",
       "      <td>4.243333</td>\n",
       "    </tr>\n",
       "    <tr>\n",
       "      <th>Eoda93</th>\n",
       "      <td>11.58</td>\n",
       "      <td>3</td>\n",
       "      <td>3.860000</td>\n",
       "    </tr>\n",
       "  </tbody>\n",
       "</table>\n",
       "</div>"
      ],
      "text/plain": [
       "             Price_x  Price_y     Price\n",
       "SN                                     \n",
       "Undirrala66    17.06        5  3.412000\n",
       "Saedue76       13.56        4  3.390000\n",
       "Mindimnya67    12.74        4  3.185000\n",
       "Haellysu29     12.73        3  4.243333\n",
       "Eoda93         11.58        3  3.860000"
      ]
     },
     "execution_count": 29,
     "metadata": {},
     "output_type": "execute_result"
    }
   ],
   "source": [
    "#to sort from High to low and extraxting the top 5\n",
    "top5.sort_values('Price_x', ascending = False, inplace=True)\n",
    "top5.head()\n",
    "#where:\n",
    "#Price_x is Total P Value, Price_y is count of purchases\n",
    "#Price is Average perchases"
   ]
  },
  {
   "cell_type": "markdown",
   "metadata": {},
   "source": [
    "# **Most Popular Items**\n",
    "  * Item Name\n",
    "  * Purchase Count\n",
    "  * Item Price\n",
    "  * Total Purchase Value"
   ]
  },
  {
   "cell_type": "code",
   "execution_count": 35,
   "metadata": {},
   "outputs": [],
   "source": [
    "#groupby items using ID:\n",
    "top5_ID = pd.DataFrame(heros1_df.groupby('Item ID')['Item ID'].count())\n",
    "#High to sorting\n",
    "top5_ID.sort_values('Item ID', ascending = False, inplace = True)\n",
    "#using the first rows\n",
    "top5_ID = top5_ID.iloc[0:6][:]\n",
    "#total purchase value\n",
    "top5_total_Purcahses = pd.DataFrame(heros1_df.groupby('Item ID')['Price'].sum())\n",
    "#merge count of purchases to total purcahse value \n",
    "top5_items = pd.merge(top5_ID, top5_total_Purcahses, left_index = True, right_index = True)\n",
    "#get duplicate away from DF\n",
    "drop_duplicate_items = heros1_df.drop_duplicates(['Item ID'], keep = 'last')\n",
    "# merge to get all other info from the top 6 using the no dup df\n",
    "top5_ID = pd.merge(top5_items, drop_duplicate_items, left_index = True, right_on = 'Item ID')\n",
    "#keep the columns we need to present\n",
    "top5_id_merged = top5_ID[['Item ID', 'Item Name', 'Item ID_x', 'Price_y', 'Price_x']]\n",
    "#indix resetting\n",
    "top5_id_merged.set_index(['Item ID'], inplace = True)"
   ]
  },
  {
   "cell_type": "code",
   "execution_count": 36,
   "metadata": {},
   "outputs": [
    {
     "data": {
      "text/html": [
       "<div>\n",
       "<style>\n",
       "    .dataframe thead tr:only-child th {\n",
       "        text-align: right;\n",
       "    }\n",
       "\n",
       "    .dataframe thead th {\n",
       "        text-align: left;\n",
       "    }\n",
       "\n",
       "    .dataframe tbody tr th {\n",
       "        vertical-align: top;\n",
       "    }\n",
       "</style>\n",
       "<table border=\"1\" class=\"dataframe\">\n",
       "  <thead>\n",
       "    <tr style=\"text-align: right;\">\n",
       "      <th></th>\n",
       "      <th>Item Name</th>\n",
       "      <th>Item ID_x</th>\n",
       "      <th>Price_y</th>\n",
       "      <th>Price_x</th>\n",
       "    </tr>\n",
       "    <tr>\n",
       "      <th>Item ID</th>\n",
       "      <th></th>\n",
       "      <th></th>\n",
       "      <th></th>\n",
       "      <th></th>\n",
       "    </tr>\n",
       "  </thead>\n",
       "  <tbody>\n",
       "    <tr>\n",
       "      <th>39</th>\n",
       "      <td>Betrayal, Whisper of Grieving Widows</td>\n",
       "      <td>11</td>\n",
       "      <td>2.35</td>\n",
       "      <td>25.85</td>\n",
       "    </tr>\n",
       "    <tr>\n",
       "      <th>84</th>\n",
       "      <td>Arcane Gem</td>\n",
       "      <td>11</td>\n",
       "      <td>2.23</td>\n",
       "      <td>24.53</td>\n",
       "    </tr>\n",
       "    <tr>\n",
       "      <th>31</th>\n",
       "      <td>Trickster</td>\n",
       "      <td>9</td>\n",
       "      <td>2.07</td>\n",
       "      <td>18.63</td>\n",
       "    </tr>\n",
       "    <tr>\n",
       "      <th>175</th>\n",
       "      <td>Woeful Adamantite Claymore</td>\n",
       "      <td>9</td>\n",
       "      <td>1.24</td>\n",
       "      <td>11.16</td>\n",
       "    </tr>\n",
       "    <tr>\n",
       "      <th>13</th>\n",
       "      <td>Serenity</td>\n",
       "      <td>9</td>\n",
       "      <td>1.49</td>\n",
       "      <td>13.41</td>\n",
       "    </tr>\n",
       "    <tr>\n",
       "      <th>34</th>\n",
       "      <td>Retribution Axe</td>\n",
       "      <td>9</td>\n",
       "      <td>4.14</td>\n",
       "      <td>37.26</td>\n",
       "    </tr>\n",
       "  </tbody>\n",
       "</table>\n",
       "</div>"
      ],
      "text/plain": [
       "                                    Item Name  Item ID_x  Price_y  Price_x\n",
       "Item ID                                                                   \n",
       "39       Betrayal, Whisper of Grieving Widows         11     2.35    25.85\n",
       "84                                 Arcane Gem         11     2.23    24.53\n",
       "31                                  Trickster          9     2.07    18.63\n",
       "175                Woeful Adamantite Claymore          9     1.24    11.16\n",
       "13                                   Serenity          9     1.49    13.41\n",
       "34                            Retribution Axe          9     4.14    37.26"
      ]
     },
     "execution_count": 36,
     "metadata": {},
     "output_type": "execute_result"
    }
   ],
   "source": [
    "top5_id_merged\n",
    "#where:\n",
    "#Item ID_x is Purchase Count, Price_y is Item Price\n",
    "#Price_x is Total Purchase Value"
   ]
  },
  {
   "cell_type": "markdown",
   "metadata": {},
   "source": [
    "# **Most Profitable Items**\n",
    "  * Item ID\n",
    "  * Item Name\n",
    "  * Purchase Count\n",
    "  * Item Price\n",
    "  * Total Purchase Value"
   ]
  },
  {
   "cell_type": "code",
   "execution_count": 40,
   "metadata": {
    "collapsed": true
   },
   "outputs": [],
   "source": [
    "#sorting purchase value from high to low\n",
    "top5_profitable = pd.DataFrame(heros1_df.groupby('Item ID')['Price'].sum())\n",
    "top5_profitable.sort_values('Price', ascending = False, inplace = True)"
   ]
  },
  {
   "cell_type": "code",
   "execution_count": 41,
   "metadata": {
    "collapsed": true
   },
   "outputs": [],
   "source": [
    "#to keep the top 5 we sorted from high to low\n",
    "top5_profitable = top5_profitable.iloc[0:5][:]"
   ]
  },
  {
   "cell_type": "code",
   "execution_count": 45,
   "metadata": {},
   "outputs": [],
   "source": [
    "#count of purchase items\n",
    "pur_count_profitable = pd.DataFrame(heros1_df.groupby('Item ID')['Item ID'].count())\n",
    "#merging data\n",
    "top5_profitable = pd.merge(top5_profitable, pur_count_profitable, left_index = True, right_index = True, how = 'left')\n",
    "top5_profitable_merged = pd.merge(top5_profitable, drop_duplicate_items, left_index = True, right_on = 'Item ID', how = 'left')\n",
    "top5_profitable_merged = top5_profitable_merged[['Item ID', 'Item Name', 'Item ID_x', 'Price_y','Price_x']]\n",
    "top5_profitable_merged.set_index(['Item ID'], inplace=True)"
   ]
  },
  {
   "cell_type": "code",
   "execution_count": 46,
   "metadata": {},
   "outputs": [
    {
     "data": {
      "text/html": [
       "<div>\n",
       "<style>\n",
       "    .dataframe thead tr:only-child th {\n",
       "        text-align: right;\n",
       "    }\n",
       "\n",
       "    .dataframe thead th {\n",
       "        text-align: left;\n",
       "    }\n",
       "\n",
       "    .dataframe tbody tr th {\n",
       "        vertical-align: top;\n",
       "    }\n",
       "</style>\n",
       "<table border=\"1\" class=\"dataframe\">\n",
       "  <thead>\n",
       "    <tr style=\"text-align: right;\">\n",
       "      <th></th>\n",
       "      <th>Item Name</th>\n",
       "      <th>Item ID_x</th>\n",
       "      <th>Item ID_x</th>\n",
       "      <th>Price_y</th>\n",
       "      <th>Price_x</th>\n",
       "    </tr>\n",
       "    <tr>\n",
       "      <th>Item ID</th>\n",
       "      <th></th>\n",
       "      <th></th>\n",
       "      <th></th>\n",
       "      <th></th>\n",
       "      <th></th>\n",
       "    </tr>\n",
       "  </thead>\n",
       "  <tbody>\n",
       "    <tr>\n",
       "      <th>34</th>\n",
       "      <td>Retribution Axe</td>\n",
       "      <td>9</td>\n",
       "      <td>9</td>\n",
       "      <td>4.14</td>\n",
       "      <td>37.26</td>\n",
       "    </tr>\n",
       "    <tr>\n",
       "      <th>115</th>\n",
       "      <td>Spectral Diamond Doomblade</td>\n",
       "      <td>7</td>\n",
       "      <td>7</td>\n",
       "      <td>4.25</td>\n",
       "      <td>29.75</td>\n",
       "    </tr>\n",
       "    <tr>\n",
       "      <th>32</th>\n",
       "      <td>Orenmir</td>\n",
       "      <td>6</td>\n",
       "      <td>6</td>\n",
       "      <td>4.95</td>\n",
       "      <td>29.70</td>\n",
       "    </tr>\n",
       "    <tr>\n",
       "      <th>103</th>\n",
       "      <td>Singed Scalpel</td>\n",
       "      <td>6</td>\n",
       "      <td>6</td>\n",
       "      <td>4.87</td>\n",
       "      <td>29.22</td>\n",
       "    </tr>\n",
       "    <tr>\n",
       "      <th>107</th>\n",
       "      <td>Splitter, Foe Of Subtlety</td>\n",
       "      <td>8</td>\n",
       "      <td>8</td>\n",
       "      <td>3.61</td>\n",
       "      <td>28.88</td>\n",
       "    </tr>\n",
       "  </tbody>\n",
       "</table>\n",
       "</div>"
      ],
      "text/plain": [
       "                          Item Name  Item ID_x  Item ID_x  Price_y  Price_x\n",
       "Item ID                                                                    \n",
       "34                  Retribution Axe          9          9     4.14    37.26\n",
       "115      Spectral Diamond Doomblade          7          7     4.25    29.75\n",
       "32                          Orenmir          6          6     4.95    29.70\n",
       "103                  Singed Scalpel          6          6     4.87    29.22\n",
       "107       Splitter, Foe Of Subtlety          8          8     3.61    28.88"
      ]
     },
     "execution_count": 46,
     "metadata": {},
     "output_type": "execute_result"
    }
   ],
   "source": [
    "top5_profitable_merged\n",
    "#where:\n",
    "#Item ID_x is Purchase Count\n",
    "#Price_y is Item Price\n",
    "#Price_x is Total Purchase Value"
   ]
  },
  {
   "cell_type": "code",
   "execution_count": null,
   "metadata": {
    "collapsed": true
   },
   "outputs": [],
   "source": []
  }
 ],
 "metadata": {
  "kernelspec": {
   "display_name": "Python 3",
   "language": "python",
   "name": "python3"
  },
  "language_info": {
   "codemirror_mode": {
    "name": "ipython",
    "version": 3
   },
   "file_extension": ".py",
   "mimetype": "text/x-python",
   "name": "python",
   "nbconvert_exporter": "python",
   "pygments_lexer": "ipython3",
   "version": "3.6.2"
  }
 },
 "nbformat": 4,
 "nbformat_minor": 2
}
